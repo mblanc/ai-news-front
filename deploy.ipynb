{
 "cells": [
  {
   "cell_type": "code",
   "execution_count": null,
   "id": "cc9070e4-3007-4139-8a71-1bd607b1f0b6",
   "metadata": {
    "tags": []
   },
   "outputs": [],
   "source": [
    "PROJECT_ID = \"svc-demo-vertex\"\n",
    "REGION = \"us-central1\"\n",
    "BUCKET_NAME = \"gs://mb-cloud-llm-preview1-bucket/img2vid\"\n",
    "SERVICE=\"ai-news-front\""
   ]
  },
  {
   "cell_type": "code",
   "execution_count": null,
   "id": "652bcde5-835c-4087-b72c-af0f75f35959",
   "metadata": {
    "tags": []
   },
   "outputs": [],
   "source": [
    "# Set the IMAGE_URI\n",
    "IMAGE_URI=f\"us-central1-docker.pkg.dev/{PROJECT_ID}/vertexai/{SERVICE}:v1\""
   ]
  },
  {
   "cell_type": "code",
   "execution_count": null,
   "id": "337ee781-d663-4dfb-bed8-1cbe32b38c70",
   "metadata": {
    "tags": []
   },
   "outputs": [],
   "source": [
    "! docker build -f ./Dockerfile -t $IMAGE_URI ."
   ]
  },
  {
   "cell_type": "code",
   "execution_count": null,
   "id": "c5461b04-30a1-4c1b-83d1-185040942029",
   "metadata": {
    "tags": []
   },
   "outputs": [],
   "source": [
    "! docker push $IMAGE_URI"
   ]
  },
  {
   "cell_type": "code",
   "execution_count": null,
   "id": "f3cbc102-53e5-454a-b074-d3b7fb24c1e9",
   "metadata": {
    "tags": []
   },
   "outputs": [],
   "source": [
    "#%%capture capt\n",
    "! gcloud run deploy $SERVICE --image $IMAGE_URI --cpu 1 --memory 2G --region $REGION --set-env-vars GOOGLE_CLOUD_PROJECT_ID=\"svc-demo-vertex\",GOOGLE_CLOUD_LOCATION=\"us-central1\",NEXT_PUBLIC_FIREBASE_PROJECT_ID=\"ai-news-db\""
   ]
  },
  {
   "cell_type": "code",
   "execution_count": null,
   "id": "d6f9ef4d-1ade-480e-ad8f-4eb78969a2c2",
   "metadata": {
    "tags": []
   },
   "outputs": [],
   "source": [
    "print(capt.stderr)"
   ]
  },
  {
   "cell_type": "code",
   "execution_count": null,
   "id": "7a29c10a-8a8f-4d6a-9e8a-b9731aef9d0b",
   "metadata": {
    "tags": []
   },
   "outputs": [],
   "source": [
    "! gcloud beta run services logs tail $SERVICE --project $PROJECT_ID --region $REGION"
   ]
  },
  {
   "cell_type": "code",
   "execution_count": null,
   "id": "94b982f7-63ad-48ef-83fd-09254f8c542e",
   "metadata": {},
   "outputs": [],
   "source": [
    "print('OK')"
   ]
  },
  {
   "cell_type": "code",
   "execution_count": null,
   "id": "3d5228c4-b0f0-4fd0-a0de-7583dd4822fd",
   "metadata": {},
   "outputs": [],
   "source": []
  }
 ],
 "metadata": {
  "environment": {
   "kernel": "conda-root-py",
   "name": "workbench-notebooks.m115",
   "type": "gcloud",
   "uri": "gcr.io/deeplearning-platform-release/workbench-notebooks:m115"
  },
  "kernelspec": {
   "display_name": "Python 3 (ipykernel) (Local)",
   "language": "python",
   "name": "conda-root-py"
  },
  "language_info": {
   "codemirror_mode": {
    "name": "ipython",
    "version": 3
   },
   "file_extension": ".py",
   "mimetype": "text/x-python",
   "name": "python",
   "nbconvert_exporter": "python",
   "pygments_lexer": "ipython3",
   "version": "3.10.13"
  }
 },
 "nbformat": 4,
 "nbformat_minor": 5
}
